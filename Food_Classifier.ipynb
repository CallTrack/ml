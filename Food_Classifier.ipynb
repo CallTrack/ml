{
  "nbformat": 4,
  "nbformat_minor": 0,
  "metadata": {
    "colab": {
      "name": "Food Classifier.ipynb",
      "provenance": [],
      "collapsed_sections": []
    },
    "kernelspec": {
      "name": "python3",
      "display_name": "Python 3"
    },
    "language_info": {
      "name": "python"
    },
    "accelerator": "GPU"
  },
  "cells": [
    {
      "cell_type": "code",
      "execution_count": null,
      "metadata": {
        "id": "mGNNVgcUCECT"
      },
      "outputs": [],
      "source": [
        "import csv\n",
        "import string\n",
        "import numpy as np\n",
        "import tensorflow as tf\n",
        "import matplotlib.pyplot as plt\n",
        "import zipfile\n",
        "from keras_preprocessing.image import ImageDataGenerator, array_to_img"
      ]
    },
    {
      "cell_type": "code",
      "source": [
        "local_zip = './true.zip'\n",
        "zip_ref = zipfile.ZipFile(local_zip, 'r')\n",
        "zip_ref.extractall('/')\n",
        "zip_ref.close()"
      ],
      "metadata": {
        "id": "TZtgLjm5rdUl"
      },
      "execution_count": null,
      "outputs": []
    },
    {
      "cell_type": "code",
      "source": [
        "model = tf.keras.models.Sequential([\n",
        "    tf.keras.layers.Conv2D(16, (3,3), activation='relu', input_shape=(500, 375, 3)),\n",
        "    tf.keras.layers.MaxPooling2D(2, 2),\n",
        "    tf.keras.layers.Conv2D(32, (3,3), activation='relu'),\n",
        "    tf.keras.layers.MaxPooling2D(2,2),\n",
        "    tf.keras.layers.Conv2D(32, (3,3), activation='relu'),\n",
        "    tf.keras.layers.MaxPooling2D(2,2),\n",
        "    tf.keras.layers.Conv2D(64, (3,3), activation='relu'),\n",
        "    tf.keras.layers.MaxPooling2D(2,2),\n",
        "    tf.keras.layers.Flatten(),\n",
        "    tf.keras.layers.Dropout(0.2),\n",
        "    tf.keras.layers.Dense(128, activation='relu'),\n",
        "    tf.keras.layers.Dense(12, activation='softmax')\n",
        "])"
      ],
      "metadata": {
        "id": "SvYYPkXxDXca"
      },
      "execution_count": null,
      "outputs": []
    },
    {
      "cell_type": "code",
      "source": [
        "TRAINING_DIR = \"/train\"\n",
        "training_datagen = ImageDataGenerator(\n",
        "      rescale = 1./255,\n",
        "\t    rotation_range=40,\n",
        "      width_shift_range=0.2,\n",
        "      height_shift_range=0.2,\n",
        "      shear_range=0.2,\n",
        "      zoom_range=0.2,\n",
        "      horizontal_flip=True,\n",
        "      fill_mode='nearest')\n",
        "\n",
        "VALIDATION_DIR = \"/test\"\n",
        "validation_datagen = ImageDataGenerator(rescale = 1./255)\n",
        "\n",
        "train_generator = training_datagen.flow_from_directory(\n",
        "\tTRAINING_DIR,\n",
        "\ttarget_size=(500, 375),\n",
        "\tclass_mode='categorical'\n",
        ")\n",
        "\n",
        "validation_generator = validation_datagen.flow_from_directory(\n",
        "\tVALIDATION_DIR,\n",
        "\ttarget_size=(500, 375),\n",
        "\tclass_mode='categorical'\n",
        ")"
      ],
      "metadata": {
        "id": "OX788Rl9WgRw",
        "colab": {
          "base_uri": "https://localhost:8080/"
        },
        "outputId": "b24f1266-58be-4322-c715-220cf4194b9a"
      },
      "execution_count": null,
      "outputs": [
        {
          "output_type": "stream",
          "name": "stdout",
          "text": [
            "Found 749 images belonging to 12 classes.\n",
            "Found 284 images belonging to 12 classes.\n"
          ]
        }
      ]
    },
    {
      "cell_type": "code",
      "source": [
        "lr_schedule = tf.keras.callbacks.LearningRateScheduler(\n",
        "    lambda epoch: 1e-8 * 10**(epoch / 15))\n",
        "\n",
        "optimizer = 'adam'\n",
        "\n",
        "model.compile(loss=tf.keras.losses.Huber(), optimizer=optimizer)\n",
        "\n",
        "history = model.fit(train_generator, epochs=25, callbacks=[lr_schedule])"
      ],
      "metadata": {
        "colab": {
          "base_uri": "https://localhost:8080/"
        },
        "id": "IFi8GgX2klx2",
        "outputId": "dec60d24-4a5a-4ed9-ecef-2195529ce4b0"
      },
      "execution_count": null,
      "outputs": [
        {
          "output_type": "stream",
          "name": "stdout",
          "text": [
            "Epoch 1/25\n",
            "24/24 [==============================] - 33s 1s/step - loss: 0.0206 - lr: 1.0000e-08\n",
            "Epoch 2/25\n",
            "24/24 [==============================] - 33s 1s/step - loss: 0.0211 - lr: 1.1659e-08\n",
            "Epoch 3/25\n",
            "24/24 [==============================] - 34s 1s/step - loss: 0.0209 - lr: 1.3594e-08\n",
            "Epoch 4/25\n",
            "24/24 [==============================] - 33s 1s/step - loss: 0.0208 - lr: 1.5849e-08\n",
            "Epoch 5/25\n",
            "24/24 [==============================] - 34s 1s/step - loss: 0.0210 - lr: 1.8478e-08\n",
            "Epoch 6/25\n",
            "24/24 [==============================] - 34s 1s/step - loss: 0.0214 - lr: 2.1544e-08\n",
            "Epoch 7/25\n",
            "24/24 [==============================] - 33s 1s/step - loss: 0.0212 - lr: 2.5119e-08\n",
            "Epoch 8/25\n",
            "24/24 [==============================] - 33s 1s/step - loss: 0.0209 - lr: 2.9286e-08\n",
            "Epoch 9/25\n",
            "24/24 [==============================] - 32s 1s/step - loss: 0.0207 - lr: 3.4145e-08\n",
            "Epoch 10/25\n",
            "24/24 [==============================] - 32s 1s/step - loss: 0.0206 - lr: 3.9811e-08\n",
            "Epoch 11/25\n",
            "24/24 [==============================] - 33s 1s/step - loss: 0.0208 - lr: 4.6416e-08\n",
            "Epoch 12/25\n",
            "24/24 [==============================] - 33s 1s/step - loss: 0.0210 - lr: 5.4117e-08\n",
            "Epoch 13/25\n",
            "24/24 [==============================] - 34s 1s/step - loss: 0.0213 - lr: 6.3096e-08\n",
            "Epoch 14/25\n",
            "24/24 [==============================] - 32s 1s/step - loss: 0.0205 - lr: 7.3564e-08\n",
            "Epoch 15/25\n",
            "24/24 [==============================] - 33s 1s/step - loss: 0.0207 - lr: 8.5770e-08\n",
            "Epoch 16/25\n",
            "24/24 [==============================] - 33s 1s/step - loss: 0.0205 - lr: 1.0000e-07\n",
            "Epoch 17/25\n",
            "24/24 [==============================] - 33s 1s/step - loss: 0.0206 - lr: 1.1659e-07\n",
            "Epoch 18/25\n",
            "24/24 [==============================] - 34s 1s/step - loss: 0.0210 - lr: 1.3594e-07\n",
            "Epoch 19/25\n",
            "24/24 [==============================] - 34s 1s/step - loss: 0.0212 - lr: 1.5849e-07\n",
            "Epoch 20/25\n",
            "24/24 [==============================] - 33s 1s/step - loss: 0.0206 - lr: 1.8478e-07\n",
            "Epoch 21/25\n",
            "24/24 [==============================] - 33s 1s/step - loss: 0.0205 - lr: 2.1544e-07\n",
            "Epoch 22/25\n",
            "24/24 [==============================] - 33s 1s/step - loss: 0.0205 - lr: 2.5119e-07\n",
            "Epoch 23/25\n",
            "24/24 [==============================] - 33s 1s/step - loss: 0.0204 - lr: 2.9286e-07\n",
            "Epoch 24/25\n",
            "24/24 [==============================] - 33s 1s/step - loss: 0.0204 - lr: 3.4145e-07\n",
            "Epoch 25/25\n",
            "24/24 [==============================] - 33s 1s/step - loss: 0.0203 - lr: 3.9811e-07\n"
          ]
        }
      ]
    },
    {
      "cell_type": "code",
      "source": [
        "lrs = 1e-8 * (10 ** (np.arange(25) / 20))\n",
        "\n",
        "plt.figure(figsize=(10, 6))\n",
        "\n",
        "plt.grid(True)\n",
        "\n",
        "plt.semilogx(lrs, history.history[\"loss\"])\n",
        "\n",
        "plt.tick_params('both', length=10, width=1, which='both')\n",
        "\n",
        "plt.axis([1e-9, 1e-6, 0, 20])"
      ],
      "metadata": {
        "colab": {
          "base_uri": "https://localhost:8080/",
          "height": 405
        },
        "id": "dqOg1llGlvSV",
        "outputId": "ccede3e4-34eb-4e0d-e7a5-1516e5fd3c17"
      },
      "execution_count": null,
      "outputs": [
        {
          "output_type": "execute_result",
          "data": {
            "text/plain": [
              "(1e-09, 1e-06, 0.0, 20.0)"
            ]
          },
          "metadata": {},
          "execution_count": 17
        },
        {
          "output_type": "display_data",
          "data": {
            "text/plain": [
              "<Figure size 720x432 with 1 Axes>"
            ],
            "image/png": "[encoded data removed]"
          },
          "metadata": {
            "needs_background": "light"
          }
        }
      ]
    },
    {
      "cell_type": "code",
      "source": [
        "# Set the training parameters\n",
        "model.compile(loss = 'categorical_crossentropy', optimizer='adam', metrics=['accuracy'])"
      ],
      "metadata": {
        "id": "7QdMTq6uEBAa"
      },
      "execution_count": null,
      "outputs": []
    },
    {
      "cell_type": "code",
      "source": [
        "history = model.fit(train_generator, epochs=25, steps_per_epoch=20, validation_data = validation_generator, verbose = 1, validation_steps=3)"
      ],
      "metadata": {
        "colab": {
          "base_uri": "https://localhost:8080/"
        },
        "id": "yUZnxKBI4JzJ",
        "outputId": "bc236787-2631-4187-c26c-bf4d17ff8901"
      },
      "execution_count": null,
      "outputs": [
        {
          "output_type": "stream",
          "name": "stdout",
          "text": [
            "Epoch 1/25\n",
            "20/20 [==============================] - 30s 1s/step - loss: 1.1984 - accuracy: 0.6071 - val_loss: 0.7894 - val_accuracy: 0.7500\n",
            "Epoch 2/25\n",
            "20/20 [==============================] - 29s 1s/step - loss: 0.7532 - accuracy: 0.7311 - val_loss: 0.5460 - val_accuracy: 0.8438\n",
            "Epoch 3/25\n",
            "20/20 [==============================] - 28s 1s/step - loss: 0.5344 - accuracy: 0.8052 - val_loss: 0.4320 - val_accuracy: 0.8333\n",
            "Epoch 4/25\n",
            "20/20 [==============================] - 28s 1s/step - loss: 0.3667 - accuracy: 0.8663 - val_loss: 0.5854 - val_accuracy: 0.8438\n",
            "Epoch 5/25\n",
            "20/20 [==============================] - 28s 1s/step - loss: 0.4887 - accuracy: 0.8277 - val_loss: 0.3738 - val_accuracy: 0.8750\n",
            "Epoch 6/25\n",
            "20/20 [==============================] - 28s 1s/step - loss: 0.3538 - accuracy: 0.8986 - val_loss: 0.2691 - val_accuracy: 0.9271\n",
            "Epoch 7/25\n",
            "20/20 [==============================] - 29s 1s/step - loss: 0.2785 - accuracy: 0.9047 - val_loss: 0.3428 - val_accuracy: 0.9167\n",
            "Epoch 8/25\n",
            "20/20 [==============================] - 28s 1s/step - loss: 0.2763 - accuracy: 0.9130 - val_loss: 0.5664 - val_accuracy: 0.8646\n",
            "Epoch 9/25\n",
            "20/20 [==============================] - 29s 1s/step - loss: 0.2622 - accuracy: 0.9066 - val_loss: 0.2811 - val_accuracy: 0.9167\n",
            "Epoch 10/25\n",
            "20/20 [==============================] - 29s 1s/step - loss: 0.2768 - accuracy: 0.9130 - val_loss: 0.5407 - val_accuracy: 0.8646\n",
            "Epoch 11/25\n",
            "20/20 [==============================] - 29s 1s/step - loss: 0.1604 - accuracy: 0.9469 - val_loss: 0.4813 - val_accuracy: 0.8854\n",
            "Epoch 12/25\n",
            "20/20 [==============================] - 29s 1s/step - loss: 0.2300 - accuracy: 0.9163 - val_loss: 0.3383 - val_accuracy: 0.8854\n",
            "Epoch 13/25\n",
            "20/20 [==============================] - 30s 1s/step - loss: 0.2942 - accuracy: 0.9094 - val_loss: 0.3128 - val_accuracy: 0.9375\n",
            "Epoch 14/25\n",
            "20/20 [==============================] - 29s 1s/step - loss: 0.2725 - accuracy: 0.9163 - val_loss: 0.4894 - val_accuracy: 0.8438\n",
            "Epoch 15/25\n",
            "20/20 [==============================] - 28s 1s/step - loss: 0.2023 - accuracy: 0.9227 - val_loss: 0.4783 - val_accuracy: 0.8646\n",
            "Epoch 16/25\n",
            "20/20 [==============================] - 28s 1s/step - loss: 0.2488 - accuracy: 0.9147 - val_loss: 0.1622 - val_accuracy: 0.9479\n",
            "Epoch 17/25\n",
            "20/20 [==============================] - 29s 1s/step - loss: 0.1500 - accuracy: 0.9531 - val_loss: 0.1186 - val_accuracy: 0.9583\n",
            "Epoch 18/25\n",
            "20/20 [==============================] - 29s 2s/step - loss: 0.1448 - accuracy: 0.9533 - val_loss: 0.2296 - val_accuracy: 0.9271\n",
            "Epoch 19/25\n",
            "20/20 [==============================] - 28s 1s/step - loss: 0.1601 - accuracy: 0.9469 - val_loss: 0.2980 - val_accuracy: 0.9167\n",
            "Epoch 20/25\n",
            "20/20 [==============================] - 29s 1s/step - loss: 0.2153 - accuracy: 0.9281 - val_loss: 0.2950 - val_accuracy: 0.9271\n",
            "Epoch 21/25\n",
            "20/20 [==============================] - 29s 1s/step - loss: 0.1426 - accuracy: 0.9438 - val_loss: 0.2135 - val_accuracy: 0.9375\n",
            "Epoch 22/25\n",
            "20/20 [==============================] - 29s 1s/step - loss: 0.1670 - accuracy: 0.9391 - val_loss: 0.1742 - val_accuracy: 0.9375\n",
            "Epoch 23/25\n",
            "20/20 [==============================] - 29s 1s/step - loss: 0.1181 - accuracy: 0.9614 - val_loss: 0.2164 - val_accuracy: 0.9479\n",
            "Epoch 24/25\n",
            "20/20 [==============================] - 29s 1s/step - loss: 0.0757 - accuracy: 0.9775 - val_loss: 0.1712 - val_accuracy: 0.9688\n",
            "Epoch 25/25\n",
            "20/20 [==============================] - 28s 1s/step - loss: 0.1082 - accuracy: 0.9597 - val_loss: 0.4014 - val_accuracy: 0.9062\n"
          ]
        }
      ]
    },
    {
      "cell_type": "code",
      "source": [
        "import matplotlib.pyplot as plt\n",
        "\n",
        "# Plot the results\n",
        "acc = history.history['accuracy']\n",
        "val_acc = history.history['val_accuracy']\n",
        "loss = history.history['loss']\n",
        "val_loss = history.history['val_loss']\n",
        "\n",
        "epochs = range(len(acc))\n",
        "\n",
        "plt.plot(epochs, acc, 'r', label='Training accuracy')\n",
        "plt.plot(epochs, val_acc, 'b', label='Validation accuracy')\n",
        "plt.title('Training and validation accuracy')\n",
        "plt.legend(loc=0)\n",
        "plt.figure()\n",
        "\n",
        "plt.show()"
      ],
      "metadata": {
        "colab": {
          "base_uri": "https://localhost:8080/",
          "height": 298
        },
        "id": "uklTRElL37XU",
        "outputId": "e54293ec-08f1-42a3-a389-126316388a1c"
      },
      "execution_count": null,
      "outputs": [
        {
          "output_type": "display_data",
          "data": {
            "text/plain": [
              "<Figure size 432x288 with 1 Axes>"
            ],
            "image/png": "[encoded data removed]"
          },
          "metadata": {
            "needs_background": "light"
          }
        },
        {
          "output_type": "display_data",
          "data": {
            "text/plain": [
              "<Figure size 432x288 with 0 Axes>"
            ]
          },
          "metadata": {}
        }
      ]
    },
    {
      "cell_type": "code",
      "source": [
        "#Predict\n",
        "import numpy as np\n",
        "from google.colab import files\n",
        "from keras.preprocessing import image\n",
        "\n",
        "uploaded = files.upload()\n",
        "\n",
        "for fn in uploaded.keys():\n",
        "  path = fn\n",
        "  img = image.load_img(path, target_size=(500, 375, 3))\n",
        "  x = image.img_to_array(img)\n",
        "  x = np.expand_dims(x, axis=0)\n",
        "\n",
        "  images = np.vstack([x])\n",
        "  classes = model.predict(images, batch_size=10)\n",
        "  print(fn)\n",
        "  print(classes)"
      ],
      "metadata": {
        "id": "BHo1lI5LYtcK",
        "colab": {
          "resources": {
            "http://localhost:8080/nbextensions/google.colab/files.js": {
              "data": "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",
              "ok": true,
              "headers": [
                [
                  "content-type",
                  "application/javascript"
                ]
              ],
              "status": 200,
              "status_text": ""
            }
          },
          "base_uri": "https://localhost:8080/",
          "height": 107
        },
        "outputId": "6b2780c8-0590-4fde-8ea2-62b36a64fb94"
      },
      "execution_count": null,
      "outputs": [
        {
          "output_type": "display_data",
          "data": {
            "text/plain": [
              "<IPython.core.display.HTML object>"
            ],
            "text/html": [
              "\n",
              "     <input type=\"file\" id=\"files-dd14ea37-477d-4488-979c-5896798c85d2\" name=\"files[]\" multiple disabled\n",
              "        style=\"border:none\" />\n",
              "     <output id=\"result-dd14ea37-477d-4488-979c-5896798c85d2\">\n",
              "      Upload widget is only available when the cell has been executed in the\n",
              "      current browser session. Please rerun this cell to enable.\n",
              "      </output>\n",
              "      <script src=\"/nbextensions/google.colab/files.js\"></script> "
            ]
          },
          "metadata": {}
        },
        {
          "output_type": "stream",
          "name": "stdout",
          "text": [
            "Saving P1010424_compressed.jpg to P1010424_compressed.jpg\n",
            "P1010424_compressed.jpg\n",
            "[[0. 0. 0. 0. 0. 0. 1. 0. 0. 0. 0. 0.]]\n"
          ]
        }
      ]
    }
  ]
}