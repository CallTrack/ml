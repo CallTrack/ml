{
  "nbformat": 4,
  "nbformat_minor": 0,
  "metadata": {
    "colab": {
      "name": "Food Classifier.ipynb",
      "provenance": [],
      "collapsed_sections": []
    },
    "kernelspec": {
      "name": "python3",
      "display_name": "Python 3"
    },
    "language_info": {
      "name": "python"
    },
    "accelerator": "GPU"
  },
  "cells": [
    {
      "cell_type": "code",
      "execution_count": 1,
      "metadata": {
        "id": "mGNNVgcUCECT"
      },
      "outputs": [],
      "source": [
        "import csv\n",
        "import string\n",
        "import numpy as np\n",
        "import tensorflow as tf\n",
        "import matplotlib.pyplot as plt\n",
        "import zipfile\n",
        "from keras_preprocessing.image import ImageDataGenerator, array_to_img"
      ]
    },
    {
      "cell_type": "code",
      "source": [
        "local_zip = './true.zip'\n",
        "zip_ref = zipfile.ZipFile(local_zip, 'r')\n",
        "zip_ref.extractall('/')\n",
        "zip_ref.close()"
      ],
      "metadata": {
        "id": "TZtgLjm5rdUl"
      },
      "execution_count": 5,
      "outputs": []
    },
    {
      "cell_type": "code",
      "source": [
        "model = tf.keras.models.Sequential([\n",
        "    tf.keras.layers.Conv2D(16, (3,3), activation='relu', input_shape=(500, 375, 3)),\n",
        "    tf.keras.layers.MaxPooling2D(2, 2),\n",
        "    tf.keras.layers.Conv2D(32, (3,3), activation='relu'),\n",
        "    tf.keras.layers.MaxPooling2D(2,2),\n",
        "    tf.keras.layers.Conv2D(32, (3,3), activation='relu'),\n",
        "    tf.keras.layers.MaxPooling2D(2,2),\n",
        "    tf.keras.layers.Conv2D(64, (3,3), activation='relu'),\n",
        "    tf.keras.layers.MaxPooling2D(2,2),\n",
        "    tf.keras.layers.Flatten(),\n",
        "    tf.keras.layers.Dropout(0.05),\n",
        "    tf.keras.layers.Dense(128, activation='relu'),\n",
        "    tf.keras.layers.Dense(64, activation='relu'),\n",
        "    tf.keras.layers.Dense(14, activation='softmax')\n",
        "])\n",
        "\n",
        "model.summary()"
      ],
      "metadata": {
        "id": "SvYYPkXxDXca",
        "colab": {
          "base_uri": "https://localhost:8080/"
        },
        "outputId": "6cbc3ba9-8537-461b-ada9-88b67312dabd"
      },
      "execution_count": 17,
      "outputs": [
        {
          "output_type": "stream",
          "name": "stdout",
          "text": [
            "Model: \"sequential_2\"\n",
            "_________________________________________________________________\n",
            " Layer (type)                Output Shape              Param #   \n",
            "=================================================================\n",
            " conv2d_8 (Conv2D)           (None, 498, 373, 16)      448       \n",
            "                                                                 \n",
            " max_pooling2d_8 (MaxPooling  (None, 249, 186, 16)     0         \n",
            " 2D)                                                             \n",
            "                                                                 \n",
            " conv2d_9 (Conv2D)           (None, 247, 184, 32)      4640      \n",
            "                                                                 \n",
            " max_pooling2d_9 (MaxPooling  (None, 123, 92, 32)      0         \n",
            " 2D)                                                             \n",
            "                                                                 \n",
            " conv2d_10 (Conv2D)          (None, 121, 90, 32)       9248      \n",
            "                                                                 \n",
            " max_pooling2d_10 (MaxPoolin  (None, 60, 45, 32)       0         \n",
            " g2D)                                                            \n",
            "                                                                 \n",
            " conv2d_11 (Conv2D)          (None, 58, 43, 64)        18496     \n",
            "                                                                 \n",
            " max_pooling2d_11 (MaxPoolin  (None, 29, 21, 64)       0         \n",
            " g2D)                                                            \n",
            "                                                                 \n",
            " flatten_2 (Flatten)         (None, 38976)             0         \n",
            "                                                                 \n",
            " dropout_2 (Dropout)         (None, 38976)             0         \n",
            "                                                                 \n",
            " dense_6 (Dense)             (None, 128)               4989056   \n",
            "                                                                 \n",
            " dense_7 (Dense)             (None, 64)                8256      \n",
            "                                                                 \n",
            " dense_8 (Dense)             (None, 14)                910       \n",
            "                                                                 \n",
            "=================================================================\n",
            "Total params: 5,031,054\n",
            "Trainable params: 5,031,054\n",
            "Non-trainable params: 0\n",
            "_________________________________________________________________\n"
          ]
        }
      ]
    },
    {
      "cell_type": "code",
      "source": [
        "TRAINING_DIR = \"/True/train\"\n",
        "training_datagen = ImageDataGenerator(\n",
        "      rescale = 1./255,\n",
        "\t    rotation_range=23,\n",
        "      width_shift_range=0.1,\n",
        "      height_shift_range=0.1,\n",
        "      zoom_range=0.2,\n",
        "      horizontal_flip=True,\n",
        "      fill_mode='nearest')\n",
        "\n",
        "VALIDATION_DIR = \"/True/test\"\n",
        "validation_datagen = ImageDataGenerator(rescale = 1./255)\n",
        "\n",
        "train_generator = training_datagen.flow_from_directory(\n",
        "\tTRAINING_DIR,\n",
        "\ttarget_size=(500, 375),\n",
        "\tclass_mode='categorical'\n",
        ")\n",
        "\n",
        "validation_generator = validation_datagen.flow_from_directory(\n",
        "\tVALIDATION_DIR,\n",
        "\ttarget_size=(500, 375),\n",
        "\tclass_mode='categorical'\n",
        ")"
      ],
      "metadata": {
        "id": "OX788Rl9WgRw",
        "colab": {
          "base_uri": "https://localhost:8080/"
        },
        "outputId": "bfca1c29-294d-4335-b9f1-c56c4f581199"
      },
      "execution_count": 30,
      "outputs": [
        {
          "output_type": "stream",
          "name": "stdout",
          "text": [
            "Found 1097 images belonging to 14 classes.\n",
            "Found 355 images belonging to 14 classes.\n"
          ]
        }
      ]
    },
    {
      "cell_type": "code",
      "source": [
        "lr_schedule = tf.keras.callbacks.LearningRateScheduler(\n",
        "    lambda epoch: 1e-8 * 10**(epoch / 15))\n",
        "\n",
        "optimizer = 'adam'\n",
        "\n",
        "model.compile(loss=tf.keras.losses.Huber(), optimizer=optimizer)\n",
        "\n",
        "history = model.fit(train_generator, epochs=25, callbacks=[lr_schedule])"
      ],
      "metadata": {
        "colab": {
          "base_uri": "https://localhost:8080/"
        },
        "id": "IFi8GgX2klx2",
        "outputId": "ca53bafc-f111-4463-a14d-0a867d3ab03f"
      },
      "execution_count": null,
      "outputs": [
        {
          "output_type": "stream",
          "name": "stdout",
          "text": [
            "Epoch 1/25\n",
            "24/24 [==============================] - 45s 1s/step - loss: 0.0383 - lr: 1.0000e-08\n",
            "Epoch 2/25\n",
            "24/24 [==============================] - 32s 1s/step - loss: 0.0383 - lr: 1.1659e-08\n",
            "Epoch 3/25\n",
            "24/24 [==============================] - 33s 1s/step - loss: 0.0383 - lr: 1.3594e-08\n",
            "Epoch 4/25\n",
            "24/24 [==============================] - 32s 1s/step - loss: 0.0383 - lr: 1.5849e-08\n",
            "Epoch 5/25\n",
            "24/24 [==============================] - 33s 1s/step - loss: 0.0383 - lr: 1.8478e-08\n",
            "Epoch 6/25\n",
            "24/24 [==============================] - 33s 1s/step - loss: 0.0383 - lr: 2.1544e-08\n",
            "Epoch 7/25\n",
            "24/24 [==============================] - 33s 1s/step - loss: 0.0383 - lr: 2.5119e-08\n",
            "Epoch 8/25\n",
            "24/24 [==============================] - 32s 1s/step - loss: 0.0383 - lr: 2.9286e-08\n",
            "Epoch 9/25\n",
            "24/24 [==============================] - 33s 1s/step - loss: 0.0383 - lr: 3.4145e-08\n",
            "Epoch 10/25\n",
            "24/24 [==============================] - 33s 1s/step - loss: 0.0383 - lr: 3.9811e-08\n",
            "Epoch 11/25\n",
            "24/24 [==============================] - 33s 1s/step - loss: 0.0383 - lr: 4.6416e-08\n",
            "Epoch 12/25\n",
            "24/24 [==============================] - 34s 1s/step - loss: 0.0383 - lr: 5.4117e-08\n",
            "Epoch 13/25\n",
            "24/24 [==============================] - 33s 1s/step - loss: 0.0383 - lr: 6.3096e-08\n",
            "Epoch 14/25\n",
            "24/24 [==============================] - 33s 1s/step - loss: 0.0382 - lr: 7.3564e-08\n",
            "Epoch 15/25\n",
            "24/24 [==============================] - 33s 1s/step - loss: 0.0383 - lr: 8.5770e-08\n",
            "Epoch 16/25\n",
            "24/24 [==============================] - 33s 1s/step - loss: 0.0382 - lr: 1.0000e-07\n",
            "Epoch 17/25\n",
            "24/24 [==============================] - 33s 1s/step - loss: 0.0382 - lr: 1.1659e-07\n",
            "Epoch 18/25\n",
            "24/24 [==============================] - 33s 1s/step - loss: 0.0382 - lr: 1.3594e-07\n",
            "Epoch 19/25\n",
            "24/24 [==============================] - 33s 1s/step - loss: 0.0382 - lr: 1.5849e-07\n",
            "Epoch 20/25\n",
            "24/24 [==============================] - 33s 1s/step - loss: 0.0382 - lr: 1.8478e-07\n",
            "Epoch 21/25\n",
            "24/24 [==============================] - 33s 1s/step - loss: 0.0382 - lr: 2.1544e-07\n",
            "Epoch 22/25\n",
            "24/24 [==============================] - 33s 1s/step - loss: 0.0382 - lr: 2.5119e-07\n",
            "Epoch 23/25\n",
            "24/24 [==============================] - 33s 1s/step - loss: 0.0382 - lr: 2.9286e-07\n",
            "Epoch 24/25\n",
            "24/24 [==============================] - 33s 1s/step - loss: 0.0381 - lr: 3.4145e-07\n",
            "Epoch 25/25\n",
            "24/24 [==============================] - 33s 1s/step - loss: 0.0381 - lr: 3.9811e-07\n"
          ]
        }
      ]
    },
    {
      "cell_type": "code",
      "source": [
        "lrs = 1e-8 * (10 ** (np.arange(25) / 20))\n",
        "\n",
        "plt.figure(figsize=(10, 6))\n",
        "\n",
        "plt.grid(True)\n",
        "\n",
        "plt.semilogx(lrs, history.history[\"loss\"])\n",
        "\n",
        "plt.tick_params('both', length=10, width=1, which='both')\n",
        "\n",
        "plt.axis([1e-9, 1e-6, 0, 20])"
      ],
      "metadata": {
        "colab": {
          "base_uri": "https://localhost:8080/",
          "height": 406
        },
        "id": "dqOg1llGlvSV",
        "outputId": "426edaca-5a8a-4c87-85c9-0a455590b495"
      },
      "execution_count": null,
      "outputs": [
        {
          "output_type": "execute_result",
          "data": {
            "text/plain": [
              "(1e-09, 1e-06, 0.0, 20.0)"
            ]
          },
          "metadata": {},
          "execution_count": 7
        },
        {
          "output_type": "display_data",
          "data": {
            "text/plain": [
              "<Figure size 720x432 with 1 Axes>"
            ],
            "image/png": "[encoded data removed]"
          },
          "metadata": {
            "needs_background": "light"
          }
        }
      ]
    },
    {
      "cell_type": "code",
      "source": [
        "# Set the training parameters\n",
        "model.compile(loss = 'categorical_crossentropy', optimizer='adam', metrics=['accuracy'])"
      ],
      "metadata": {
        "id": "7QdMTq6uEBAa"
      },
      "execution_count": 31,
      "outputs": []
    },
    {
      "cell_type": "code",
      "source": [
        "history = model.fit(train_generator, epochs=30, steps_per_epoch=20, validation_data = validation_generator, verbose = 1, validation_steps=3)"
      ],
      "metadata": {
        "colab": {
          "base_uri": "https://localhost:8080/"
        },
        "id": "yUZnxKBI4JzJ",
        "outputId": "eb911a84-58f8-48f7-b78d-b92f587ad328"
      },
      "execution_count": 35,
      "outputs": [
        {
          "output_type": "stream",
          "name": "stdout",
          "text": [
            "Epoch 1/30\n",
            "20/20 [==============================] - 25s 1s/step - loss: 0.1385 - accuracy: 0.9530 - val_loss: 0.3106 - val_accuracy: 0.9271\n",
            "Epoch 2/30\n",
            "20/20 [==============================] - 26s 1s/step - loss: 0.1594 - accuracy: 0.9375 - val_loss: 0.2876 - val_accuracy: 0.9167\n",
            "Epoch 3/30\n",
            "20/20 [==============================] - 25s 1s/step - loss: 0.1396 - accuracy: 0.9514 - val_loss: 0.6446 - val_accuracy: 0.8438\n",
            "Epoch 4/30\n",
            "20/20 [==============================] - 26s 1s/step - loss: 0.1309 - accuracy: 0.9531 - val_loss: 0.1386 - val_accuracy: 0.9583\n",
            "Epoch 5/30\n",
            "20/20 [==============================] - 26s 1s/step - loss: 0.0876 - accuracy: 0.9734 - val_loss: 0.5510 - val_accuracy: 0.9167\n",
            "Epoch 6/30\n",
            "20/20 [==============================] - 25s 1s/step - loss: 0.1672 - accuracy: 0.9384 - val_loss: 0.9487 - val_accuracy: 0.8333\n",
            "Epoch 7/30\n",
            "20/20 [==============================] - 26s 1s/step - loss: 0.1360 - accuracy: 0.9531 - val_loss: 0.3990 - val_accuracy: 0.9479\n",
            "Epoch 8/30\n",
            "20/20 [==============================] - 27s 1s/step - loss: 0.1424 - accuracy: 0.9516 - val_loss: 0.4521 - val_accuracy: 0.8854\n",
            "Epoch 9/30\n",
            "20/20 [==============================] - 26s 1s/step - loss: 0.1835 - accuracy: 0.9406 - val_loss: 0.2781 - val_accuracy: 0.9167\n",
            "Epoch 10/30\n",
            "20/20 [==============================] - 26s 1s/step - loss: 0.1148 - accuracy: 0.9516 - val_loss: 0.3572 - val_accuracy: 0.8958\n",
            "Epoch 11/30\n",
            "20/20 [==============================] - 26s 1s/step - loss: 0.0971 - accuracy: 0.9703 - val_loss: 0.3868 - val_accuracy: 0.9062\n",
            "Epoch 12/30\n",
            "20/20 [==============================] - 26s 1s/step - loss: 0.1128 - accuracy: 0.9703 - val_loss: 0.6482 - val_accuracy: 0.8750\n",
            "Epoch 13/30\n",
            "20/20 [==============================] - 25s 1s/step - loss: 0.1125 - accuracy: 0.9530 - val_loss: 0.4946 - val_accuracy: 0.8750\n",
            "Epoch 14/30\n",
            "20/20 [==============================] - 26s 1s/step - loss: 0.1197 - accuracy: 0.9594 - val_loss: 0.2818 - val_accuracy: 0.9479\n",
            "Epoch 15/30\n",
            "20/20 [==============================] - 26s 1s/step - loss: 0.0877 - accuracy: 0.9703 - val_loss: 0.5085 - val_accuracy: 0.8750\n",
            "Epoch 16/30\n",
            "20/20 [==============================] - 25s 1s/step - loss: 0.0925 - accuracy: 0.9676 - val_loss: 0.5728 - val_accuracy: 0.9167\n",
            "Epoch 17/30\n",
            "20/20 [==============================] - 25s 1s/step - loss: 0.0965 - accuracy: 0.9660 - val_loss: 0.4656 - val_accuracy: 0.8854\n",
            "Epoch 18/30\n",
            "20/20 [==============================] - 26s 1s/step - loss: 0.1899 - accuracy: 0.9375 - val_loss: 0.5257 - val_accuracy: 0.8750\n",
            "Epoch 19/30\n",
            "20/20 [==============================] - 26s 1s/step - loss: 0.1650 - accuracy: 0.9438 - val_loss: 0.1602 - val_accuracy: 0.9583\n",
            "Epoch 20/30\n",
            "20/20 [==============================] - 25s 1s/step - loss: 0.1487 - accuracy: 0.9433 - val_loss: 0.4062 - val_accuracy: 0.9167\n",
            "Epoch 21/30\n",
            "20/20 [==============================] - 26s 1s/step - loss: 0.1264 - accuracy: 0.9594 - val_loss: 0.1869 - val_accuracy: 0.9583\n",
            "Epoch 22/30\n",
            "20/20 [==============================] - 25s 1s/step - loss: 0.0856 - accuracy: 0.9724 - val_loss: 0.2383 - val_accuracy: 0.9271\n",
            "Epoch 23/30\n",
            "20/20 [==============================] - 25s 1s/step - loss: 0.2220 - accuracy: 0.9384 - val_loss: 0.4645 - val_accuracy: 0.9062\n",
            "Epoch 24/30\n",
            "20/20 [==============================] - 25s 1s/step - loss: 0.1626 - accuracy: 0.9449 - val_loss: 0.5164 - val_accuracy: 0.8750\n",
            "Epoch 25/30\n",
            "20/20 [==============================] - 26s 1s/step - loss: 0.1665 - accuracy: 0.9406 - val_loss: 0.3686 - val_accuracy: 0.8958\n",
            "Epoch 26/30\n",
            "20/20 [==============================] - 25s 1s/step - loss: 0.1470 - accuracy: 0.9484 - val_loss: 0.3543 - val_accuracy: 0.9375\n",
            "Epoch 27/30\n",
            "20/20 [==============================] - 25s 1s/step - loss: 0.1403 - accuracy: 0.9516 - val_loss: 0.2922 - val_accuracy: 0.9167\n",
            "Epoch 28/30\n",
            "20/20 [==============================] - 25s 1s/step - loss: 0.1407 - accuracy: 0.9611 - val_loss: 0.4324 - val_accuracy: 0.8958\n",
            "Epoch 29/30\n",
            "20/20 [==============================] - 25s 1s/step - loss: 0.2153 - accuracy: 0.9465 - val_loss: 0.7477 - val_accuracy: 0.8438\n",
            "Epoch 30/30\n",
            "20/20 [==============================] - 25s 1s/step - loss: 0.1396 - accuracy: 0.9465 - val_loss: 0.3358 - val_accuracy: 0.9375\n"
          ]
        }
      ]
    },
    {
      "cell_type": "code",
      "source": [
        "import matplotlib.pyplot as plt\n",
        "\n",
        "# Plot the results\n",
        "acc = history.history['accuracy']\n",
        "val_acc = history.history['val_accuracy']\n",
        "loss = history.history['loss']\n",
        "val_loss = history.history['val_loss']\n",
        "\n",
        "epochs = range(len(acc))\n",
        "\n",
        "plt.plot(epochs, acc, 'r', label='Training accuracy')\n",
        "plt.plot(epochs, val_acc, 'b', label='Validation accuracy')\n",
        "plt.title('Training and validation accuracy')\n",
        "plt.legend(loc=0)\n",
        "plt.figure()\n",
        "\n",
        "plt.show()"
      ],
      "metadata": {
        "colab": {
          "base_uri": "https://localhost:8080/",
          "height": 298
        },
        "id": "uklTRElL37XU",
        "outputId": "a6573f34-3125-40cf-adff-6d7af254e77d"
      },
      "execution_count": 37,
      "outputs": [
        {
          "output_type": "display_data",
          "data": {
            "text/plain": [
              "<Figure size 432x288 with 1 Axes>"
            ],
            "image/png": "[encoded data removed]"
          },
          "metadata": {
            "needs_background": "light"
          }
        },
        {
          "output_type": "display_data",
          "data": {
            "text/plain": [
              "<Figure size 432x288 with 0 Axes>"
            ]
          },
          "metadata": {}
        }
      ]
    },
    {
      "cell_type": "code",
      "source": [
        "#Predict\n",
        "import numpy as np\n",
        "from google.colab import files\n",
        "from keras.preprocessing import image\n",
        "\n",
        "uploaded = files.upload()\n",
        "\n",
        "for fn in uploaded.keys():\n",
        "  path = fn\n",
        "  img = image.load_img(path, target_size=(500, 375, 3))\n",
        "  x = image.img_to_array(img)\n",
        "  x = np.expand_dims(x, axis=0)\n",
        "\n",
        "  images = np.vstack([x])\n",
        "  classes = model.predict(images, batch_size=10)\n",
        "  print(fn)\n",
        "  print(classes)"
      ],
      "metadata": {
        "id": "BHo1lI5LYtcK",
        "colab": {
          "resources": {
            "http://localhost:8080/nbextensions/google.colab/files.js": {
              "data": "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",
              "ok": true,
              "headers": [
                [
                  "content-type",
                  "application/javascript"
                ]
              ],
              "status": 200,
              "status_text": ""
            }
          },
          "base_uri": "https://localhost:8080/",
          "height": 111
        },
        "outputId": "6795ba92-3bc6-4173-914e-0fa116ff6fbc"
      },
      "execution_count": null,
      "outputs": [
        {
          "output_type": "display_data",
          "data": {
            "text/plain": [
              "<IPython.core.display.HTML object>"
            ],
            "text/html": [
              "\n",
              "     <input type=\"file\" id=\"files-1364de24-ad95-4cb8-916f-a5f63cfed941\" name=\"files[]\" multiple disabled\n",
              "        style=\"border:none\" />\n",
              "     <output id=\"result-1364de24-ad95-4cb8-916f-a5f63cfed941\">\n",
              "      Upload widget is only available when the cell has been executed in the\n",
              "      current browser session. Please rerun this cell to enable.\n",
              "      </output>\n",
              "      <script src=\"/nbextensions/google.colab/files.js\"></script> "
            ]
          },
          "metadata": {}
        },
        {
          "output_type": "stream",
          "name": "stdout",
          "text": [
            "Saving 098263000_1558501227-WhatsApp_Image_2019-05-21_at_10.13.53.jpeg to 098263000_1558501227-WhatsApp_Image_2019-05-21_at_10.13.53.jpeg\n",
            "098263000_1558501227-WhatsApp_Image_2019-05-21_at_10.13.53.jpeg\n",
            "[[0. 0. 0. 1. 0. 0. 0. 0. 0. 0. 0. 0.]]\n"
          ]
        }
      ]
    },
    {
      "cell_type": "code",
      "source": [
        "train_generator.class_indices"
      ],
      "metadata": {
        "colab": {
          "base_uri": "https://localhost:8080/"
        },
        "id": "NQs38lFDrXhV",
        "outputId": "6f074053-eb5f-4174-b44c-01242d070ed1"
      },
      "execution_count": 38,
      "outputs": [
        {
          "output_type": "execute_result",
          "data": {
            "text/plain": [
              "{'Rendang': 0,\n",
              " 'ayam dada': 1,\n",
              " 'ayam paha': 2,\n",
              " 'bakso': 3,\n",
              " 'burger': 4,\n",
              " 'dendeng': 5,\n",
              " 'gado gado': 6,\n",
              " 'kebab': 7,\n",
              " 'kentang': 8,\n",
              " 'makaroni': 9,\n",
              " 'nugget': 10,\n",
              " 'roti': 11,\n",
              " 'sosis': 12,\n",
              " 'takoyaki': 13}"
            ]
          },
          "metadata": {},
          "execution_count": 38
        }
      ]
    },
    {
      "cell_type": "code",
      "source": [
        "export_dir = 'saved_model/1'\n",
        "tf.saved_model.save(model, export_dir)"
      ],
      "metadata": {
        "id": "GxgeUrM71qy6",
        "outputId": "1562d430-6d03-47fd-bbc3-991354261a3c",
        "colab": {
          "base_uri": "https://localhost:8080/"
        }
      },
      "execution_count": 15,
      "outputs": [
        {
          "output_type": "stream",
          "name": "stdout",
          "text": [
            "INFO:tensorflow:Assets written to: saved_model/1/assets\n"
          ]
        }
      ]
    },
    {
      "cell_type": "code",
      "source": [
        "model.save('my_model.h5')"
      ],
      "metadata": {
        "id": "WWW9iiaUc06c"
      },
      "execution_count": 36,
      "outputs": []
    }
  ]
}